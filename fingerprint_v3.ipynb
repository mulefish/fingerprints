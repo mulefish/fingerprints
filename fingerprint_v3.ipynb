{
 "cells": [
  {
   "cell_type": "code",
   "execution_count": 29,
   "id": "0673a1dd-7a05-4d9c-830d-d9c44c1e2a62",
   "metadata": {
    "scrolled": true
   },
   "outputs": [
    {
     "name": "stdout",
     "output_type": "stream",
     "text": [
      "Imports finished! numpy, PIL and matplotlib.pyplot\n",
      "Image successfully vectorized and reconstructed.\n",
      "Saved new_png_filename as 'fingerprint_101_TEST.png'\n"
     ]
    }
   ],
   "source": [
    "\n",
    "import numpy as np\n",
    "import matplotlib.pyplot as plt\n",
    "from PIL import Image\n",
    "\n",
    "print(\"Imports finished! numpy, PIL and matplotlib.pyplot\")\n",
    "image_path = \"DB3_B/101_5.tif\"  # See README for whence info. Note: All DB3_B images are '300 by 300' tiffs \n",
    "new_png_filename = \"fingerprint_101_TEST.png\"\n",
    "\n",
    "\n",
    "image = Image.open(image_path)\n",
    "image_gray = image.convert(\"L\") # Grayscale good! Color bad!\n",
    "image_array = np.array(image_gray)\n",
    "\n",
    "image_vector = image_array.ravel()\n",
    "avg_gray_value = np.mean(image_vector)\n",
    "vector_adjusted = image_vector - avg_gray_value\n",
    "# Back to the orig 300 by 300 ( or whatever the first image's height width was ) \n",
    "image_adjusted_from_vector = vector_adjusted.reshape(image_array.shape)\n",
    "# 128? Yeah, numpy will have vectorized around 0 as the mean. \n",
    "# Because I, as a human, want to see this, I upshift the values from a mean of 0 to a mean of 128. \n",
    "image_normalized_from_vector = np.clip(image_adjusted_from_vector + 128, 0, 255).astype(np.uint8)\n",
    "\n",
    "# L = luminance\n",
    "new_image_from_vector = Image.fromarray(image_normalized_from_vector, mode=\"L\")\n",
    "\n",
    "\n",
    "\n",
    "\n",
    "print(\"Image successfully vectorized and reconstructed.\")\n",
    "\n",
    "new_image_from_vector.save(new_png_filename)\n",
    "print(\"Saved new_png_filename as '{}'\".format(new_png_filename)) \n",
    "\n",
    "\n",
    "\n",
    "\n",
    "\n"
   ]
  }
 ],
 "metadata": {
  "kernelspec": {
   "display_name": "Python 3 (ipykernel)",
   "language": "python",
   "name": "python3"
  },
  "language_info": {
   "codemirror_mode": {
    "name": "ipython",
    "version": 3
   },
   "file_extension": ".py",
   "mimetype": "text/x-python",
   "name": "python",
   "nbconvert_exporter": "python",
   "pygments_lexer": "ipython3",
   "version": "3.12.6"
  }
 },
 "nbformat": 4,
 "nbformat_minor": 5
}
